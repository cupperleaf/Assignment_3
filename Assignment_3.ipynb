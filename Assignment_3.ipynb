{
 "cells": [
  {
   "cell_type": "raw",
   "id": "88448836-a80b-475b-9b18-41e1f107104b",
   "metadata": {},
   "source": [
    "Q1. Which keyword is used to create a function? Create a function to return a list of odd numbers in the \n",
    "range of 1 to 25.\n",
    "Ans: \"def\" keyword is used to create a function."
   ]
  },
  {
   "cell_type": "code",
   "execution_count": 6,
   "id": "4460ce11-f7b3-48ce-8a73-7d80adb7b530",
   "metadata": {},
   "outputs": [],
   "source": [
    "l = list(range(26))\n",
    "l1 = []\n",
    "def odd_no(l):\n",
    "    for i in l:\n",
    "        if i % 2 == 1:\n",
    "            l1.append(i)\n",
    "    return l1\n",
    "            \n",
    "         "
   ]
  },
  {
   "cell_type": "code",
   "execution_count": 7,
   "id": "a9018f06-5b2c-4a14-82f8-5a96478bf70e",
   "metadata": {},
   "outputs": [
    {
     "data": {
      "text/plain": [
       "[1, 3, 5, 7, 9, 11, 13, 15, 17, 19, 21, 23, 25]"
      ]
     },
     "execution_count": 7,
     "metadata": {},
     "output_type": "execute_result"
    }
   ],
   "source": [
    "odd_no(l)"
   ]
  },
  {
   "cell_type": "raw",
   "id": "63fd4fd0-3de0-4f33-9ef4-835744634b15",
   "metadata": {},
   "source": [
    "Q2. Why *args and **kwargs is used in some functions? Create a function each for *args and **kwargs to demonstrate their use.\n",
    "Ans: *args is used to pass argument n number of times in a function data\n",
    "     while **kwargs is uesd to pass n number of keywords."
   ]
  },
  {
   "cell_type": "code",
   "execution_count": 20,
   "id": "1666074b-dd3f-442f-b603-e6898908fc72",
   "metadata": {},
   "outputs": [],
   "source": [
    "def add(*args):\n",
    "    sum = 0\n",
    "    for i in args:\n",
    "        sum += i\n",
    "    return sum"
   ]
  },
  {
   "cell_type": "code",
   "execution_count": 21,
   "id": "3ae137b0-1580-47ba-9933-8b7392854f24",
   "metadata": {},
   "outputs": [
    {
     "data": {
      "text/plain": [
       "6"
      ]
     },
     "execution_count": 21,
     "metadata": {},
     "output_type": "execute_result"
    }
   ],
   "source": [
    "add(1,2,3)\n"
   ]
  },
  {
   "cell_type": "code",
   "execution_count": 22,
   "id": "d4cba529-344f-4a0e-90ce-b961af94abec",
   "metadata": {},
   "outputs": [],
   "source": [
    "def name(**kwargs):\n",
    "    return kwargs"
   ]
  },
  {
   "cell_type": "code",
   "execution_count": 25,
   "id": "979fdc8e-1347-4974-910f-7001aa6426af",
   "metadata": {},
   "outputs": [
    {
     "data": {
      "text/plain": [
       "{'a': 'Chaddha', 'b': 'Kumar'}"
      ]
     },
     "execution_count": 25,
     "metadata": {},
     "output_type": "execute_result"
    }
   ],
   "source": [
    "name(a = \"Chaddha\", b = \"Kumar\")"
   ]
  },
  {
   "cell_type": "raw",
   "id": "007527b0-11b6-4c68-949c-36975cdb929c",
   "metadata": {},
   "source": [
    "Q3.  What is an iterator in python? Name the method used to initialise the iterator object and the method used for iteration. Use these methods to print the first five elements of the given list [2, 4, 6, 8, 10, 12, 14, 16, 18, 20].\n",
    "Ans: iterator is these data in which we extract data by doing next().\n",
    "     We can initialise iterator object by 'next()' method."
   ]
  },
  {
   "cell_type": "code",
   "execution_count": 26,
   "id": "e0ae600b-2da1-4f00-950c-2dc946f52d63",
   "metadata": {},
   "outputs": [],
   "source": [
    "l = [2, 4, 6, 8, 10, 12, 14, 16, 18, 20]\n",
    "l1 = iter(l)"
   ]
  },
  {
   "cell_type": "code",
   "execution_count": 27,
   "id": "a4b51128-a181-4e95-b640-94f58bedecd2",
   "metadata": {},
   "outputs": [
    {
     "data": {
      "text/plain": [
       "2"
      ]
     },
     "execution_count": 27,
     "metadata": {},
     "output_type": "execute_result"
    }
   ],
   "source": [
    "next(l1)"
   ]
  },
  {
   "cell_type": "code",
   "execution_count": 28,
   "id": "fcde8aa4-ef07-49bf-bf77-b98692dc8ebd",
   "metadata": {},
   "outputs": [
    {
     "data": {
      "text/plain": [
       "4"
      ]
     },
     "execution_count": 28,
     "metadata": {},
     "output_type": "execute_result"
    }
   ],
   "source": [
    "next(l1)"
   ]
  },
  {
   "cell_type": "code",
   "execution_count": 29,
   "id": "72f350fc-784d-4971-9515-5d2d6e1cae10",
   "metadata": {},
   "outputs": [
    {
     "data": {
      "text/plain": [
       "6"
      ]
     },
     "execution_count": 29,
     "metadata": {},
     "output_type": "execute_result"
    }
   ],
   "source": [
    "next(l1)"
   ]
  },
  {
   "cell_type": "code",
   "execution_count": 30,
   "id": "fb159490-2edf-4edb-b8db-c6df44c4b44b",
   "metadata": {},
   "outputs": [
    {
     "data": {
      "text/plain": [
       "8"
      ]
     },
     "execution_count": 30,
     "metadata": {},
     "output_type": "execute_result"
    }
   ],
   "source": [
    "next(l1)"
   ]
  },
  {
   "cell_type": "code",
   "execution_count": 31,
   "id": "d4e1ef63-b2a9-42e7-b846-359036b8f84a",
   "metadata": {},
   "outputs": [
    {
     "data": {
      "text/plain": [
       "10"
      ]
     },
     "execution_count": 31,
     "metadata": {},
     "output_type": "execute_result"
    }
   ],
   "source": [
    "next(l1)"
   ]
  },
  {
   "cell_type": "raw",
   "id": "96674da9-67ec-4584-99bc-8ee965003f30",
   "metadata": {},
   "source": [
    "Q4.  What is a generator function in python? Why yield keyword is used? Give an example of a generator function.\n",
    "Ans: 'Generator' function is a function that returns the iterator which produces a sequence of iterated values.\n",
    "     The function of yield is to exit the data whenever it comes.\n",
    "     "
   ]
  },
  {
   "cell_type": "code",
   "execution_count": 35,
   "id": "ef46752e-b252-4e4f-b657-84da56984c72",
   "metadata": {},
   "outputs": [],
   "source": [
    "def generator(n):\n",
    "    value = 0\n",
    "    while value <= n:\n",
    "        yield value\n",
    "        value+=1\n",
    "        "
   ]
  },
  {
   "cell_type": "code",
   "execution_count": 36,
   "id": "d56f8942-2d51-42b3-8847-0d1b719f9006",
   "metadata": {},
   "outputs": [
    {
     "name": "stdout",
     "output_type": "stream",
     "text": [
      "0\n",
      "1\n",
      "2\n",
      "3\n",
      "4\n",
      "5\n",
      "6\n",
      "7\n",
      "8\n",
      "9\n"
     ]
    }
   ],
   "source": [
    "for j in generator(9):\n",
    "    print(j)"
   ]
  },
  {
   "cell_type": "raw",
   "id": "7959ee5c-1088-4385-a8b9-3d94b976b2c4",
   "metadata": {},
   "source": [
    "Q5. Create a generator function for prime numbers less than 1000. Use the next() method to print the first 20 prime numbers."
   ]
  },
  {
   "cell_type": "code",
   "execution_count": 11,
   "id": "e94f4bf2-00b9-4667-9fe4-e69ef116e189",
   "metadata": {},
   "outputs": [],
   "source": [
    "def prime_no(n):\n",
    "    value = 0\n",
    "    for i in range(2,n+1):\n",
    "        if i > 1:\n",
    "            for j in range (2,n+1):\n",
    "                if i % j == 0:\n",
    "                    break\n",
    "                else:\n",
    "                    yield i\n",
    "            i += 1\n",
    "                "
   ]
  },
  {
   "cell_type": "code",
   "execution_count": 18,
   "id": "2d85a6ac-cff0-45fc-bf90-f6d457b04212",
   "metadata": {},
   "outputs": [],
   "source": [
    "prime = prime_no(100)"
   ]
  },
  {
   "cell_type": "code",
   "execution_count": 19,
   "id": "703d2ef9-bc1b-4ef4-baf3-e163fe9f30a1",
   "metadata": {},
   "outputs": [
    {
     "data": {
      "text/plain": [
       "3"
      ]
     },
     "execution_count": 19,
     "metadata": {},
     "output_type": "execute_result"
    }
   ],
   "source": [
    "next(prime)"
   ]
  },
  {
   "cell_type": "code",
   "execution_count": 20,
   "id": "564f9014-bf3d-4342-a80d-8d3af9eb776b",
   "metadata": {},
   "outputs": [
    {
     "data": {
      "text/plain": [
       "5"
      ]
     },
     "execution_count": 20,
     "metadata": {},
     "output_type": "execute_result"
    }
   ],
   "source": [
    "next(prime)"
   ]
  },
  {
   "cell_type": "raw",
   "id": "89a46422-8a7e-40e8-a758-dfa20004d4a4",
   "metadata": {},
   "source": [
    "Q6. Write a python program to print the first 10 Fibonacci numbers using a while loop."
   ]
  },
  {
   "cell_type": "code",
   "execution_count": 1,
   "id": "6a8c87aa-5157-47b9-bcc6-aca93c23eeb6",
   "metadata": {},
   "outputs": [],
   "source": [
    "def test_fib1():\n",
    "    a,b = 0,1\n",
    "    while True:\n",
    "        yield a           \n",
    "        a,b = b , a+b"
   ]
  },
  {
   "cell_type": "code",
   "execution_count": 2,
   "id": "465379bd-9129-4a4d-8add-a7dcaf7566ef",
   "metadata": {},
   "outputs": [],
   "source": [
    "fib = test_fib1()"
   ]
  },
  {
   "cell_type": "code",
   "execution_count": 3,
   "id": "0ecce0ec-2a74-4b18-9292-e5bb7f2ebaa3",
   "metadata": {},
   "outputs": [
    {
     "name": "stdout",
     "output_type": "stream",
     "text": [
      "0\n",
      "1\n",
      "1\n",
      "2\n",
      "3\n",
      "5\n",
      "8\n",
      "13\n",
      "21\n",
      "34\n"
     ]
    }
   ],
   "source": [
    "for i in range(10):\n",
    "    print(next(fib))"
   ]
  },
  {
   "cell_type": "raw",
   "id": "c2c608c9-e415-47c6-b3d5-93620a5c1b6d",
   "metadata": {},
   "source": [
    "Q7. Write a List Comprehension to iterate through the given string: ‘pwskills’. Expected output: ['p', 'w', 's', 'k', 'i', 'l', 'l', 's']."
   ]
  },
  {
   "cell_type": "code",
   "execution_count": 6,
   "id": "d47ec353-4d7f-4913-b20a-e2d0822759f7",
   "metadata": {},
   "outputs": [],
   "source": [
    "s = \"pwskills\"\n",
    "l = []\n",
    "for i in s:\n",
    "    l.append(i)\n",
    "    "
   ]
  },
  {
   "cell_type": "code",
   "execution_count": 7,
   "id": "eca69230-badc-4441-becc-e68a5ab52571",
   "metadata": {},
   "outputs": [
    {
     "data": {
      "text/plain": [
       "['p', 'w', 's', 'k', 'i', 'l', 'l', 's']"
      ]
     },
     "execution_count": 7,
     "metadata": {},
     "output_type": "execute_result"
    }
   ],
   "source": [
    "l"
   ]
  },
  {
   "cell_type": "raw",
   "id": "24e0a64d-22cf-49f3-9579-08ab4fb01cc2",
   "metadata": {},
   "source": [
    "Q8. Write a python program to check whether a given number is Palindrome or not using a while loop."
   ]
  },
  {
   "cell_type": "code",
   "execution_count": 1,
   "id": "ec5871fe-dcfe-4784-aed3-ff7cb3c72638",
   "metadata": {},
   "outputs": [
    {
     "name": "stdin",
     "output_type": "stream",
     "text": [
      "Enter a number:  121\n"
     ]
    },
    {
     "name": "stdout",
     "output_type": "stream",
     "text": [
      "121 is a palindrome\n"
     ]
    }
   ],
   "source": [
    "a = int(input(\"Enter a number: \"))\n",
    "rev = 0\n",
    "no = a\n",
    "\n",
    "while no>0:\n",
    "    remainder = no % 10\n",
    "    rev = (rev * 10) + remainder\n",
    "    no = no // 10\n",
    "if  a == rev:\n",
    "    print(f\"{a} is a palindrome\")\n",
    "else:\n",
    "    print(f\"{a} is not a palindrome\")"
   ]
  },
  {
   "cell_type": "raw",
   "id": "e1b59b3b-dfec-4fe9-a299-c6292bc0bb52",
   "metadata": {},
   "source": [
    "Q9. Write a code to print odd numbers from 1 to 100 using list comprehension."
   ]
  },
  {
   "cell_type": "code",
   "execution_count": 9,
   "id": "e077afee-1cce-423f-898b-07e63d9adfc9",
   "metadata": {},
   "outputs": [
    {
     "data": {
      "text/plain": [
       "[1,\n",
       " 3,\n",
       " 5,\n",
       " 7,\n",
       " 9,\n",
       " 11,\n",
       " 13,\n",
       " 15,\n",
       " 17,\n",
       " 19,\n",
       " 21,\n",
       " 23,\n",
       " 25,\n",
       " 27,\n",
       " 29,\n",
       " 31,\n",
       " 33,\n",
       " 35,\n",
       " 37,\n",
       " 39,\n",
       " 41,\n",
       " 43,\n",
       " 45,\n",
       " 47,\n",
       " 49,\n",
       " 51,\n",
       " 53,\n",
       " 55,\n",
       " 57,\n",
       " 59,\n",
       " 61,\n",
       " 63,\n",
       " 65,\n",
       " 67,\n",
       " 69,\n",
       " 71,\n",
       " 73,\n",
       " 75,\n",
       " 77,\n",
       " 79,\n",
       " 81,\n",
       " 83,\n",
       " 85,\n",
       " 87,\n",
       " 89,\n",
       " 91,\n",
       " 93,\n",
       " 95,\n",
       " 97,\n",
       " 99]"
      ]
     },
     "execution_count": 9,
     "metadata": {},
     "output_type": "execute_result"
    }
   ],
   "source": [
    "l = list(range(101))\n",
    "l1 = []\n",
    "for i in l:\n",
    "    if i%2!=0:\n",
    "        l1.append(i)\n",
    "(l1)"
   ]
  },
  {
   "cell_type": "code",
   "execution_count": null,
   "id": "6f299a68-e1c6-40f7-ba96-3884a3c65ab6",
   "metadata": {},
   "outputs": [],
   "source": []
  }
 ],
 "metadata": {
  "kernelspec": {
   "display_name": "Python 3 (ipykernel)",
   "language": "python",
   "name": "python3"
  },
  "language_info": {
   "codemirror_mode": {
    "name": "ipython",
    "version": 3
   },
   "file_extension": ".py",
   "mimetype": "text/x-python",
   "name": "python",
   "nbconvert_exporter": "python",
   "pygments_lexer": "ipython3",
   "version": "3.10.8"
  }
 },
 "nbformat": 4,
 "nbformat_minor": 5
}
